{
 "cells": [
  {
   "cell_type": "markdown",
   "metadata": {},
   "source": [
    "Даны значения зарплат из выборки выпускников:\n",
    "\n",
    "100, 80, 75, 77, 89, 33, 45, 25, 65, 17, 30, 230, 24, 57, 55, 70, 75, 65, 84, 90, 150\n",
    "\n",
    "Используя только встроенные питоновские функции и структуры данных (т.е. без библиотек numpy, pandas и др.)\n",
    "посчитать среднее арифметическое, смещённую и несмещённую оценки дисперсии, среднее квадратичное отклонение\n",
    "для данной выборки.\n",
    "\n",
    "Можно затем посчитать те же значения с использованием библиотек, чтобы проверить себя."
   ]
  },
  {
   "cell_type": "code",
   "execution_count": 1,
   "metadata": {},
   "outputs": [],
   "source": [
    "import numpy as np"
   ]
  },
  {
   "cell_type": "code",
   "execution_count": 4,
   "metadata": {},
   "outputs": [],
   "source": [
    "salary = [100, 80, 75, 77, 89, 33, 45, 25, 65, 17, 30, 230, 24, 57, 55, 70, 75, 65, 84, 90, 150]"
   ]
  },
  {
   "cell_type": "code",
   "execution_count": 5,
   "metadata": {},
   "outputs": [],
   "source": [
    "# Среднее\n",
    "mean_salary = sum(salary)/len(salary)"
   ]
  },
  {
   "cell_type": "code",
   "execution_count": 6,
   "metadata": {},
   "outputs": [],
   "source": [
    "diff_salary = [(x - mean_salary)**2 for x in salary]"
   ]
  },
  {
   "cell_type": "code",
   "execution_count": 7,
   "metadata": {},
   "outputs": [],
   "source": [
    "# Дисперсия\n",
    "d = 1/len(salary) * sum(diff_salary)\n",
    "# Дисперсия смещенная\n",
    "d_unbiased = 1/(len(salary)-1) * sum(diff_salary)"
   ]
  },
  {
   "cell_type": "code",
   "execution_count": 8,
   "metadata": {},
   "outputs": [],
   "source": [
    "# Среднеквадратичное отклонение\n",
    "sigma = d ** (1/2)\n",
    "# Среднеквадратичное отклонение со смещенной дисперсией\n",
    "sigma_unbiased = d_unbiased ** (1/2)"
   ]
  },
  {
   "cell_type": "code",
   "execution_count": 9,
   "metadata": {},
   "outputs": [
    {
     "name": "stdout",
     "output_type": "stream",
     "text": [
      "Среднее значение 73.14285714285714. \n",
      "Дисперсия 2135.074829931973. \n",
      "Дисперсия смещенная 2241.8285714285716. \n",
      "СКО 46.20686994302874. \n",
      "СКО со смещенной диспресией 47.34795213553139\n",
      "Проверка значение с помощью библиотки numpy \n",
      "Среднее значение 73.14285714285714. \n",
      "Дисперсия 2135.0748299319725. \n",
      "Дисперсия смещенная 2241.828571428571. \n",
      "СКО 46.206869943028735. \n",
      "СКО со смещенной диспресией 47.347952135531386\n"
     ]
    }
   ],
   "source": [
    "print(f\"Среднее значение {mean_salary}. \\nДисперсия {d}. \\nДисперсия смещенная {d_unbiased}. \\n\"\n",
    "      f\"СКО {sigma}. \\nСКО со смещенной диспресией {sigma_unbiased}\")\n",
    "\n",
    "print(f\"Проверка значение с помощью библиотки numpy \\n\"\n",
    "      f\"Среднее значение {np.mean(salary)}. \\nДисперсия {np.var(salary)}. \\nДисперсия смещенная {np.var(salary, ddof=1)}. \\n\"\n",
    "      f\"СКО {np.std(salary)}. \\nСКО со смещенной диспресией {np.std(salary, ddof=1)}\")"
   ]
  },
  {
   "cell_type": "markdown",
   "metadata": {},
   "source": [
    "Для выборки из задачи 1 найти (также без использования библиотек):\n",
    "1. медиану, первый и третий квартили, интерквартильное расстояние,\n",
    "2. выборсы в выборке (используя для этого метод как при построении \"усов\" из boxplot).\n",
    "\n",
    "Возможные неоднозначности в вычислении квантилей можно разрешать любым способом."
   ]
  },
  {
   "cell_type": "code",
   "execution_count": 20,
   "metadata": {},
   "outputs": [],
   "source": [
    "sorted_list = sorted(salary)"
   ]
  },
  {
   "cell_type": "code",
   "execution_count": 21,
   "metadata": {},
   "outputs": [],
   "source": [
    "elem_50 = int(len(salary)/2)\n",
    "elem_25 = int(len(salary) * 0.25)\n",
    "elem_75 = int(len(salary) * 0.75)"
   ]
  },
  {
   "cell_type": "code",
   "execution_count": 37,
   "metadata": {},
   "outputs": [],
   "source": [
    "quantile_25 = sorted_list[elem_25]\n",
    "quantile_75 = sorted_list[elem_75]\n",
    "quantile_50 = sorted_list[elem_50]"
   ]
  },
  {
   "cell_type": "code",
   "execution_count": 38,
   "metadata": {},
   "outputs": [],
   "source": [
    "iqr = quantile_75 - quantile_25"
   ]
  },
  {
   "cell_type": "code",
   "execution_count": 39,
   "metadata": {},
   "outputs": [],
   "source": [
    "b1 = quantile_25 - 1.5 * iqr\n",
    "b2 = quantile_75 + 1.5 * iqr"
   ]
  },
  {
   "cell_type": "code",
   "execution_count": 40,
   "metadata": {},
   "outputs": [
    {
     "name": "stdout",
     "output_type": "stream",
     "text": [
      "Медиана - 70. \n",
      "Квартиль 0.25 - 45. \n",
      "Квартиль 0.75 - 84. \n",
      "Интерквартильный размах - 39. \n",
      "Граница 1 - -13.5. \n",
      "Граница 2 - 142.5.\n"
     ]
    }
   ],
   "source": [
    "print(f\"Медиана - {quantile_50}. \\nКвартиль 0.25 - {quantile_25}. \\nКвартиль 0.75 - {quantile_75}. \\n\"\n",
    "     f\"Интерквартильный размах - {iqr}. \\nГраница 1 - {b1}. \\nГраница 2 - {b2}.\")"
   ]
  },
  {
   "cell_type": "code",
   "execution_count": 41,
   "metadata": {},
   "outputs": [
    {
     "name": "stdout",
     "output_type": "stream",
     "text": [
      "Проверка значений Медиана - 70.0. \n",
      "Квартиль 0.25 - 45.0. \n",
      "Квартиль 0.75 - 84.0. \n",
      "\n"
     ]
    }
   ],
   "source": [
    "print(f\"Проверка значений \"\n",
    "    f\"Медиана - {np.median(sorted_list)}. \\nКвартиль 0.25 - {np.quantile(sorted_list, 0.25)}. \\n\"\n",
    "    f\"Квартиль 0.75 - {np.quantile(sorted_list, 0.75)}. \\n\")\n"
   ]
  },
  {
   "cell_type": "code",
   "execution_count": 44,
   "metadata": {},
   "outputs": [
    {
     "name": "stdout",
     "output_type": "stream",
     "text": [
      "[]\n"
     ]
    }
   ],
   "source": [
    "ejection = [x for x in salary if x <= b1 and x >= b2]\n",
    "print(ejection)"
   ]
  },
  {
   "cell_type": "code",
   "execution_count": 15,
   "metadata": {},
   "outputs": [],
   "source": [
    "import seaborn as sns"
   ]
  },
  {
   "cell_type": "code",
   "execution_count": 16,
   "metadata": {},
   "outputs": [
    {
     "data": {
      "text/plain": [
       "<matplotlib.axes._subplots.AxesSubplot at 0x29d7cfd3448>"
      ]
     },
     "execution_count": 16,
     "metadata": {},
     "output_type": "execute_result"
    },
    {
     "data": {
      "image/png": "[encoded data removed]",
      "text/plain": [
       "<Figure size 432x288 with 1 Axes>"
      ]
     },
     "metadata": {
      "needs_background": "light"
     },
     "output_type": "display_data"
    }
   ],
   "source": [
    "sns.boxplot(sorted_list)"
   ]
  }
 ],
 "metadata": {
  "kernelspec": {
   "display_name": "Python 3",
   "language": "python",
   "name": "python3"
  },
  "language_info": {
   "codemirror_mode": {
    "name": "ipython",
    "version": 3
   },
   "file_extension": ".py",
   "mimetype": "text/x-python",
   "name": "python",
   "nbconvert_exporter": "python",
   "pygments_lexer": "ipython3",
   "version": "3.7.4"
  }
 },
 "nbformat": 4,
 "nbformat_minor": 2
}
