{
 "cells": [
  {
   "cell_type": "markdown",
   "metadata": {},
   "source": [
    "Задача 1\n",
    "\n",
    "Даны значения величины заработной платы заемщиков банка (salary) и значения их поведенческого кредитного скоринга (scoring):\n",
    "\n",
    "salary = [35, 45, 190, 200, 40, 70, 54, 150, 120, 110]\n",
    "scoring = [401, 574, 874, 919, 459, 739, 653, 902, 746, 832]\n",
    "Возьмём в качестве признака значение salary, а в качестве целевой переменной - scoring.\n",
    "\n",
    "Найдите коэффициенты линейной регрессии с помощью формул для парной регрессии, а затем с помощью метода наименьших квадратов.\n",
    "Постройте scatter plot по данным и отметьте на нём прямую линейной регрессии, полученную в п. 1.\n",
    "Посчитайте коэффициент детерминации, среднюю ошибку аппроксимации.\n",
    "Оцените построенное уравнение регрессии с помощью F-критерия Фишера.\n",
    "Постройте для коэффициентов регрессии доверительные интервалы с помощью t-статистики Стьюдента."
   ]
  },
  {
   "cell_type": "code",
   "execution_count": 8,
   "metadata": {},
   "outputs": [],
   "source": [
    "import numpy as np\n",
    "from scipy import stats\n",
    "from matplotlib import pyplot as plt"
   ]
  },
  {
   "cell_type": "code",
   "execution_count": 5,
   "metadata": {},
   "outputs": [],
   "source": [
    "salary = np.array([35, 45, 190, 200, 40, 70, 54, 150, 120, 110])\n",
    "scoring = np.array([401, 574, 874, 919, 459, 739, 653, 902, 746, 832])"
   ]
  },
  {
   "cell_type": "code",
   "execution_count": 6,
   "metadata": {},
   "outputs": [
    {
     "data": {
      "text/plain": [
       "2.620538882402765"
      ]
     },
     "execution_count": 6,
     "metadata": {},
     "output_type": "execute_result"
    }
   ],
   "source": [
    "b1 = np.cov(salary, scoring, ddof=1)[0, 1] / np.var(salary, ddof = 1)\n",
    "b1"
   ]
  },
  {
   "cell_type": "code",
   "execution_count": 7,
   "metadata": {},
   "outputs": [
    {
     "data": {
      "text/plain": [
       "444.1773573243596"
      ]
     },
     "execution_count": 7,
     "metadata": {},
     "output_type": "execute_result"
    }
   ],
   "source": [
    "b0 = scoring.mean() - b1 * salary.mean()\n",
    "b0"
   ]
  },
  {
   "cell_type": "code",
   "execution_count": 10,
   "metadata": {},
   "outputs": [
    {
     "data": {
      "text/plain": [
       "Text(0, 0.5, 'КС')"
      ]
     },
     "execution_count": 10,
     "metadata": {},
     "output_type": "execute_result"
    },
    {
     "data": {
      "image/png": "[encoded data removed]",
      "text/plain": [
       "<Figure size 432x288 with 1 Axes>"
      ]
     },
     "metadata": {
      "needs_background": "light"
     },
     "output_type": "display_data"
    }
   ],
   "source": [
    "x = salary\n",
    "y = b0 + b1 * x\n",
    "\n",
    "plt.scatter(x, y)\n",
    "plt.plot(x, y, color='red', alpha=0.5)\n",
    "\n",
    "plt.xlabel('ЗП')\n",
    "plt.ylabel('КС')"
   ]
  },
  {
   "cell_type": "code",
   "execution_count": 20,
   "metadata": {},
   "outputs": [],
   "source": [
    "ones = np.ones((salary.shape[0], 1))\n"
   ]
  },
  {
   "cell_type": "code",
   "execution_count": 18,
   "metadata": {
    "scrolled": true
   },
   "outputs": [
    {
     "data": {
      "text/plain": [
       "(10, 2)"
      ]
     },
     "execution_count": 18,
     "metadata": {},
     "output_type": "execute_result"
    }
   ],
   "source": [
    "\n",
    "salary_matrix = np.hstack((ones, salary.reshape(-1, 1)))\n",
    "salary_matrix.shape"
   ]
  },
  {
   "cell_type": "code",
   "execution_count": 19,
   "metadata": {},
   "outputs": [
    {
     "data": {
      "text/plain": [
       "array([[  1.,  35.],\n",
       "       [  1.,  45.],\n",
       "       [  1., 190.],\n",
       "       [  1., 200.],\n",
       "       [  1.,  40.],\n",
       "       [  1.,  70.],\n",
       "       [  1.,  54.],\n",
       "       [  1., 150.],\n",
       "       [  1., 120.],\n",
       "       [  1., 110.]])"
      ]
     },
     "execution_count": 19,
     "metadata": {},
     "output_type": "execute_result"
    }
   ],
   "source": [
    "salary_matrix"
   ]
  },
  {
   "cell_type": "code",
   "execution_count": 21,
   "metadata": {},
   "outputs": [
    {
     "data": {
      "text/plain": [
       "array([[1.00000e+01, 1.01400e+03],\n",
       "       [1.01400e+03, 1.37766e+05]])"
      ]
     },
     "execution_count": 21,
     "metadata": {},
     "output_type": "execute_result"
    }
   ],
   "source": [
    "XTX = salary_matrix.T.dot(salary_matrix)\n",
    "XTX"
   ]
  },
  {
   "cell_type": "code",
   "execution_count": 23,
   "metadata": {},
   "outputs": [],
   "source": [
    "XTX_inv = np.linalg.inv(XTX)"
   ]
  },
  {
   "cell_type": "code",
   "execution_count": 24,
   "metadata": {},
   "outputs": [
    {
     "data": {
      "text/plain": [
       "array([[444.17735732],\n",
       "       [  2.62053888]])"
      ]
     },
     "execution_count": 24,
     "metadata": {},
     "output_type": "execute_result"
    }
   ],
   "source": [
    "b = XTX_inv.dot(salary_matrix.T).dot(scoring.reshape(-1, 1))\n",
    "b"
   ]
  },
  {
   "cell_type": "markdown",
   "metadata": {},
   "source": [
    "Следовательно наша модель регрессии имеет вид \n",
    "scoring = 444.177 + 2.620 * salary"
   ]
  },
  {
   "cell_type": "code",
   "execution_count": 27,
   "metadata": {},
   "outputs": [
    {
     "data": {
      "text/plain": [
       "array([535.89621821, 562.10160703, 942.07974498, 968.2851338 ,\n",
       "       548.99891262, 627.61507909, 585.68645697, 837.25818968,\n",
       "       758.64202321, 732.43663439])"
      ]
     },
     "execution_count": 27,
     "metadata": {},
     "output_type": "execute_result"
    }
   ],
   "source": [
    "scoring_pred = b0 + b1 * salary\n",
    "\n",
    "scoring_pred"
   ]
  },
  {
   "cell_type": "code",
   "execution_count": 26,
   "metadata": {},
   "outputs": [
    {
     "data": {
      "text/plain": [
       "array([401, 574, 874, 919, 459, 739, 653, 902, 746, 832])"
      ]
     },
     "execution_count": 26,
     "metadata": {},
     "output_type": "execute_result"
    }
   ],
   "source": [
    "scoring"
   ]
  },
  {
   "cell_type": "code",
   "execution_count": 29,
   "metadata": {},
   "outputs": [
    {
     "data": {
      "text/plain": [
       "0.7876386635293686"
      ]
     },
     "execution_count": 29,
     "metadata": {},
     "output_type": "execute_result"
    }
   ],
   "source": [
    "R1 = 1 - (scoring_pred - scoring).var() / scoring.var()\n",
    "R1"
   ]
  },
  {
   "cell_type": "markdown",
   "metadata": {},
   "source": [
    "78% дисперсии переменной scoring объясняются моделью."
   ]
  },
  {
   "cell_type": "code",
   "execution_count": 33,
   "metadata": {},
   "outputs": [
    {
     "data": {
      "text/plain": [
       "0.11469251843561709"
      ]
     },
     "execution_count": 33,
     "metadata": {},
     "output_type": "execute_result"
    }
   ],
   "source": [
    "mean_approx_error = np.abs((scoring - scoring_pred) / scoring).mean()\n",
    "mean_approx_error"
   ]
  },
  {
   "cell_type": "markdown",
   "metadata": {},
   "source": [
    "Т.к mean_approx_error превышает 10 процентов то можно сказать что теоритические данные могут отличаться от тех которые выдет модель лин регрессии"
   ]
  },
  {
   "cell_type": "code",
   "execution_count": 34,
   "metadata": {},
   "outputs": [],
   "source": [
    "k1 = 1\n",
    "n = scoring.shape[0]\n",
    "k2 = n - k1 - 1"
   ]
  },
  {
   "cell_type": "code",
   "execution_count": 35,
   "metadata": {},
   "outputs": [
    {
     "data": {
      "text/plain": [
       "29.67164085966451"
      ]
     },
     "execution_count": 35,
     "metadata": {},
     "output_type": "execute_result"
    }
   ],
   "source": [
    "F = (R1 / k1) / ((1 - R1) / k2)\n",
    "F"
   ]
  },
  {
   "cell_type": "code",
   "execution_count": 36,
   "metadata": {},
   "outputs": [
    {
     "data": {
      "text/plain": [
       "5.317655071578714"
      ]
     },
     "execution_count": 36,
     "metadata": {},
     "output_type": "execute_result"
    }
   ],
   "source": [
    "alpha = 0.05\n",
    "F_crit = stats.f.ppf(1 - alpha, k1, k2)\n",
    "F_crit"
   ]
  },
  {
   "cell_type": "markdown",
   "metadata": {},
   "source": [
    "F > F_crit следовательно уравнение регрессии статистически значимо."
   ]
  },
  {
   "cell_type": "code",
   "execution_count": 37,
   "metadata": {},
   "outputs": [
    {
     "data": {
      "text/plain": [
       "0.48108279568516005"
      ]
     },
     "execution_count": 37,
     "metadata": {},
     "output_type": "execute_result"
    }
   ],
   "source": [
    "standard_err_slope = np.sqrt((((scoring - scoring_pred) ** 2).sum() / (n - 2)) / ((salary - salary.mean()) ** 2).sum())\n",
    "standard_err_slope"
   ]
  },
  {
   "cell_type": "code",
   "execution_count": 38,
   "metadata": {},
   "outputs": [
    {
     "data": {
      "text/plain": [
       "2.3060041350333704"
      ]
     },
     "execution_count": 38,
     "metadata": {},
     "output_type": "execute_result"
    }
   ],
   "source": [
    "t = stats.t.ppf(1 - alpha / 2, df = n - 2)\n",
    "t"
   ]
  },
  {
   "cell_type": "code",
   "execution_count": 39,
   "metadata": {},
   "outputs": [
    {
     "data": {
      "text/plain": [
       "(1.5111599662593718, 3.729917798546158)"
      ]
     },
     "execution_count": 39,
     "metadata": {},
     "output_type": "execute_result"
    }
   ],
   "source": [
    "(b1 - t * standard_err_slope, b1 + t * standard_err_slope)"
   ]
  },
  {
   "cell_type": "markdown",
   "metadata": {},
   "source": [
    "Доверительный интервал для параметра b1 - (1.5111599662593718, 3.729917798546158)"
   ]
  },
  {
   "cell_type": "code",
   "execution_count": 40,
   "metadata": {},
   "outputs": [
    {
     "data": {
      "text/plain": [
       "56.46649755068153"
      ]
     },
     "execution_count": 40,
     "metadata": {},
     "output_type": "execute_result"
    }
   ],
   "source": [
    "standart_err_intercept = standard_err_slope * np.sqrt((salary ** 2).mean())\n",
    "standart_err_intercept"
   ]
  },
  {
   "cell_type": "code",
   "execution_count": 41,
   "metadata": {},
   "outputs": [
    {
     "data": {
      "text/plain": [
       "(313.9653804816363, 574.3893341670829)"
      ]
     },
     "execution_count": 41,
     "metadata": {},
     "output_type": "execute_result"
    }
   ],
   "source": [
    "(b0 - t * standart_err_intercept, b0 + t * standart_err_intercept)"
   ]
  },
  {
   "cell_type": "markdown",
   "metadata": {},
   "source": [
    "Доверительный интервал для параметра b0 - (313.9653804816363, 574.3893341670829)"
   ]
  },
  {
   "cell_type": "markdown",
   "metadata": {},
   "source": [
    "Задача 2\n",
    "\n",
    "Допустим, первые 5 клиентов из предыдущего задания проживают в Москве, а остальные - в Санкт-Петербурге. Влияет ли этот фактор на значение их кредитного скоринга?\n"
   ]
  },
  {
   "cell_type": "markdown",
   "metadata": {},
   "source": [
    "Для ответа на этот вопрос необходимо провести однофакторный дисперсионный анализ и проверить гипотезу H0 о равенстве средних значений по каждой выборке.\n",
    "Требуется проверить гипотезу у равенстве среднего значения кредитного скролинга по каждой группе."
   ]
  },
  {
   "cell_type": "code",
   "execution_count": 104,
   "metadata": {},
   "outputs": [],
   "source": [
    "moscow_scoring = np.array([401, 574, 874, 919, 459])\n",
    "sp_scoring =  np.array([ 739, 653, 902, 746, 832])"
   ]
  },
  {
   "cell_type": "code",
   "execution_count": 105,
   "metadata": {},
   "outputs": [],
   "source": [
    "moscow_scoring_mean = moscow_scoring.mean()\n",
    "sp_scoring_mean = sp_scoring.mean()"
   ]
  },
  {
   "cell_type": "code",
   "execution_count": 106,
   "metadata": {},
   "outputs": [],
   "source": [
    "all_scoring_mean = scoring.mean()"
   ]
  },
  {
   "cell_type": "code",
   "execution_count": 107,
   "metadata": {},
   "outputs": [],
   "source": [
    "n1 = moscow_scoring.shape[0]\n",
    "n2 = sp_scoring.shape[0]"
   ]
  },
  {
   "cell_type": "code",
   "execution_count": 109,
   "metadata": {},
   "outputs": [
    {
     "name": "stdout",
     "output_type": "stream",
     "text": [
      "41602.5 263086.39999999997\n"
     ]
    }
   ],
   "source": [
    "S_b = n1 * (moscow_scoring_mean - all_scoring_mean) ** 2 + n2 * (sp_scoring_mean - all_scoring_mean) ** 2\n",
    "S_w = ((moscow_scoring - moscow_scoring_mean) ** 2).sum() + ((sp_scoring - sp_scoring_mean) ** 2).sum()\n",
    "print(S_b, S_w)"
   ]
  },
  {
   "cell_type": "code",
   "execution_count": 110,
   "metadata": {},
   "outputs": [],
   "source": [
    "k = 2\n",
    "n = n1 + n2\n",
    "k1 = k - 1\n",
    "k2 = n - k"
   ]
  },
  {
   "cell_type": "code",
   "execution_count": 113,
   "metadata": {},
   "outputs": [
    {
     "name": "stdout",
     "output_type": "stream",
     "text": [
      "41602.5 32885.799999999996\n"
     ]
    }
   ],
   "source": [
    "sigma2_b = S_b / k1\n",
    "sigma2_w = S_w / k2\n",
    "print(sigma2_b, sigma2_w)"
   ]
  },
  {
   "cell_type": "code",
   "execution_count": 116,
   "metadata": {},
   "outputs": [
    {
     "data": {
      "text/plain": [
       "1.2650596914169643"
      ]
     },
     "execution_count": 116,
     "metadata": {},
     "output_type": "execute_result"
    }
   ],
   "source": [
    "F = sigma2_b / sigma2_w\n",
    "F"
   ]
  },
  {
   "cell_type": "code",
   "execution_count": 117,
   "metadata": {},
   "outputs": [
    {
     "data": {
      "text/plain": [
       "5.317655071578714"
      ]
     },
     "execution_count": 117,
     "metadata": {},
     "output_type": "execute_result"
    }
   ],
   "source": [
    "alpha = 0.05\n",
    "F_crit = stats.f.ppf(1 - alpha, k1, k2)    \n",
    "F_crit"
   ]
  },
  {
   "cell_type": "markdown",
   "metadata": {},
   "source": [
    "Видим, что  𝐹<𝐹𝑐𝑟𝑖𝑡 , поэтому заключаем, что отличие кредитного скоринга не является статистически значимым."
   ]
  },
  {
   "cell_type": "markdown",
   "metadata": {},
   "source": [
    "\n",
    "Задача 3\n",
    "\n",
    "Квартет Энскомба — популярный в области анализа данных пример наборов данных, у которых практически совпадают все статистические свойства (средние, дисперсии, коэффициенты корреляции, регрессионные линии), однако, существенно отличаются графики. Данный пример призван показать, насколько важна визуализация данных. Датасет представляет собой 4 пары выборок:\n",
    "\n",
    "{\n",
    "\"x1\": [10.0, 8.0, 13.0, 9.0, 11.0, 14.0, 6.0, 4.0, 12.0, 7.0, 5.0],\n",
    "\n",
    "\"y1\": [8.04, 6.95, 7.58, 8.81, 8.33, 9.96, 7.24, 4.26, 10.84, 4.82, 5.68],\n",
    "\n",
    "\"x2\": [10.0, 8.0, 13.0, 9.0, 11.0, 14.0, 6.0, 4.0, 12.0, 7.0, 5.0],\n",
    "\n",
    "\"y2\": [9.14, 8.14, 8.74, 8.77, 9.26, 8.1, 6.13, 3.1, 9.13, 7.26, 4.74],\n",
    "\n",
    "\"x3\": [10.0, 8.0, 13.0, 9.0, 11.0, 14.0, 6.0, 4.0, 12.0, 7.0, 5.0],\n",
    "\n",
    "\"y3\": [7.46, 6.77, 12.74, 7.11, 7.81, 8.84, 6.08, 5.39, 8.15, 6.42, 5.73],\n",
    "\n",
    "\"x4\": [8.0, 8.0, 8.0, 8.0, 8.0, 8.0, 8.0, 19.0, 8.0, 8.0, 8.0],\n",
    "\n",
    "\"y4\": [6.58, 5.76, 7.71, 8.84, 8.47, 7.04, 5.25, 12.5, 5.56, 7.91, 6.89]\n",
    "}\n",
    "По каждой паре выборок посчитайте:\n",
    "\n",
    "выборочное среднее и дисперсию каждой выборки,\n",
    "коэффициент корреляции Пирсона и прямую линейной регрессии.\n",
    "Убедившись в том, что они не практически не отличаются, постройте scatter plot по каждой паре выборок."
   ]
  },
  {
   "cell_type": "code",
   "execution_count": 44,
   "metadata": {},
   "outputs": [],
   "source": [
    "x1 = np.array([10.0, 8.0, 13.0, 9.0, 11.0, 14.0, 6.0, 4.0, 12.0, 7.0, 5.0])\n",
    "y1 = np.array([8.04, 6.95, 7.58, 8.81, 8.33, 9.96, 7.24, 4.26, 10.84, 4.82, 5.68])\n",
    "\n",
    "x2 = np.array([10.0, 8.0, 13.0, 9.0, 11.0, 14.0, 6.0, 4.0, 12.0, 7.0, 5.0])\n",
    "y2 = np.array([9.14, 8.14, 8.74, 8.77, 9.26, 8.1, 6.13, 3.1, 9.13, 7.26, 4.74])\n",
    "\n",
    "x3 = np.array([10.0, 8.0, 13.0, 9.0, 11.0, 14.0, 6.0, 4.0, 12.0, 7.0, 5.0])\n",
    "y3 = np.array([7.46, 6.77, 12.74, 7.11, 7.81, 8.84, 6.08, 5.39, 8.15, 6.42, 5.73])\n",
    "\n",
    "x4 = np.array([8.0, 8.0, 8.0, 8.0, 8.0, 8.0, 8.0, 19.0, 8.0, 8.0, 8.0])\n",
    "y4 = np.array([6.58, 5.76, 7.71, 8.84, 8.47, 7.04, 5.25, 12.5, 5.56, 7.91, 6.89])"
   ]
  },
  {
   "cell_type": "code",
   "execution_count": 45,
   "metadata": {},
   "outputs": [],
   "source": [
    "MX1 = x1.mean()\n",
    "MY1 = y1.mean()\n",
    "\n",
    "MX2 = x2.mean()\n",
    "MY2 = y2.mean()\n",
    "\n",
    "MX3 = x3.mean()\n",
    "MY3 = y3.mean()\n",
    "\n",
    "MX4 = x4.mean()\n",
    "MY4 = y4.mean()"
   ]
  },
  {
   "cell_type": "code",
   "execution_count": 47,
   "metadata": {},
   "outputs": [
    {
     "name": "stdout",
     "output_type": "stream",
     "text": [
      "9.0 7.500909090909093\n",
      "9.0 7.50090909090909\n",
      "9.0 7.5\n",
      "9.0 7.500909090909091\n"
     ]
    }
   ],
   "source": [
    "print(MX1, MY1)\n",
    "print(MX2, MY2)\n",
    "print(MX3, MY3)\n",
    "print(MX4, MY4)"
   ]
  },
  {
   "cell_type": "code",
   "execution_count": 61,
   "metadata": {},
   "outputs": [],
   "source": [
    "DX1 = x1.var(ddof=1)\n",
    "DX2 = x2.var(ddof=1)\n",
    "DX3 = x3.var(ddof=1)\n",
    "DX4 = x4.var(ddof=1)\n",
    "\n",
    "DY1 = y1.var(ddof=1)\n",
    "DY2 = y2.var(ddof=1)\n",
    "DY3 = y3.var(ddof=1)\n",
    "DY4 = y4.var(ddof=1)"
   ]
  },
  {
   "cell_type": "code",
   "execution_count": 62,
   "metadata": {},
   "outputs": [
    {
     "name": "stdout",
     "output_type": "stream",
     "text": [
      "11.0 4.127269090909091\n",
      "11.0 4.127629090909091\n",
      "11.0 4.12262\n",
      "11.0 4.123249090909091\n"
     ]
    }
   ],
   "source": [
    "print(DX1, DY1)\n",
    "print(DX2, DY2)\n",
    "print(DX3, DY3)\n",
    "print(DX4, DY4)"
   ]
  },
  {
   "cell_type": "code",
   "execution_count": 48,
   "metadata": {},
   "outputs": [],
   "source": [
    "cov1 = ((x1 - MX1) * (y1 - MY1)).sum() / (x1.shape[0] - 1)\n",
    "cov2 = ((x2 - MX2) * (y2 - MY2)).sum() / (x2.shape[0] - 1)\n",
    "cov3 = ((x3 - MX3) * (y3 - MY3)).sum() / (x3.shape[0] - 1)\n",
    "cov4 = ((x4 - MX4) * (y4 - MY4)).sum() / (x4.shape[0] - 1)"
   ]
  },
  {
   "cell_type": "code",
   "execution_count": 49,
   "metadata": {},
   "outputs": [
    {
     "name": "stdout",
     "output_type": "stream",
     "text": [
      "5.501\n",
      "5.499999999999999\n",
      "5.497\n",
      "5.4990000000000006\n"
     ]
    }
   ],
   "source": [
    "print(cov1)\n",
    "print(cov2)\n",
    "print(cov3)\n",
    "print(cov4)"
   ]
  },
  {
   "cell_type": "code",
   "execution_count": 89,
   "metadata": {},
   "outputs": [],
   "source": [
    "X1_std = x1.std(ddof=1)\n",
    "X2_std = x2.std(ddof=1)\n",
    "X3_std = x3.std(ddof=1)\n",
    "X4_std = x4.std(ddof=1)\n",
    "\n",
    "Y1_std = y1.std(ddof=1)\n",
    "Y2_std = y2.std(ddof=1)\n",
    "Y3_std = y3.std(ddof=1)\n",
    "Y4_std = y4.std(ddof=1)"
   ]
  },
  {
   "cell_type": "code",
   "execution_count": 90,
   "metadata": {},
   "outputs": [
    {
     "name": "stdout",
     "output_type": "stream",
     "text": [
      "3.3166247903554 2.031568135925815\n",
      "3.3166247903554 2.0316567355016177\n",
      "3.3166247903554 2.030423601123667\n",
      "3.3166247903554 2.0305785113876023\n"
     ]
    }
   ],
   "source": [
    "print(X1_std, Y1_std)\n",
    "print(X2_std, Y2_std)\n",
    "print(X3_std, Y3_std)\n",
    "print(X4_std, Y4_std)"
   ]
  },
  {
   "cell_type": "code",
   "execution_count": 91,
   "metadata": {},
   "outputs": [],
   "source": [
    "rxy1 = cov1 / (X1_std * Y1_std)\n",
    "rxy2 = cov2 / (X2_std * Y2_std)\n",
    "rxy3 = cov3 / (X3_std * Y3_std)\n",
    "rxy4 = cov4 / (X4_std * Y4_std)"
   ]
  },
  {
   "cell_type": "code",
   "execution_count": 95,
   "metadata": {},
   "outputs": [
    {
     "name": "stdout",
     "output_type": "stream",
     "text": [
      "0.8164205163448399\n",
      "0.8162365060002428\n",
      "0.8162867394895982\n",
      "0.816521436888503\n"
     ]
    }
   ],
   "source": [
    "print(rxy1)\n",
    "print(rxy2)\n",
    "print(rxy3)\n",
    "print(rxy4)"
   ]
  },
  {
   "cell_type": "code",
   "execution_count": 98,
   "metadata": {},
   "outputs": [],
   "source": [
    "b1_1 = cov1 / DX1\n",
    "b1_2 = cov2 / DX2\n",
    "b1_3 = cov3 / DX3\n",
    "b1_4 = cov4 / DX4"
   ]
  },
  {
   "cell_type": "code",
   "execution_count": 99,
   "metadata": {},
   "outputs": [],
   "source": [
    "b0_1 = MY1 - b1_1 * MX1\n",
    "b0_2 = MY2 - b1_2 * MX2\n",
    "b0_3 = MY3 - b1_3 * MX3\n",
    "b0_4 = MY4 - b1_4 * MX4"
   ]
  },
  {
   "cell_type": "code",
   "execution_count": 100,
   "metadata": {},
   "outputs": [
    {
     "name": "stdout",
     "output_type": "stream",
     "text": [
      "y1 = 3.0001 + 0.5001 * x1\n",
      "y2 = 3.0009 + 0.5 * x1\n",
      "y3 = 3.0025 + 0.4997 * x1\n",
      "y4 = 3.0017 + 0.4999 * x1\n"
     ]
    }
   ],
   "source": [
    "print(f'y1 = {round(b0_1, 4)} + {round(b1_1, 4)} * x1')\n",
    "print(f'y2 = {round(b0_2, 4)} + {round(b1_2, 4)} * x1')\n",
    "print(f'y3 = {round(b0_3, 4)} + {round(b1_3, 4)} * x1')\n",
    "print(f'y4 = {round(b0_4, 4)} + {round(b1_4, 4)} * x1')"
   ]
  },
  {
   "cell_type": "code",
   "execution_count": 103,
   "metadata": {},
   "outputs": [
    {
     "data": {
      "image/png": "[encoded data removed]",
      "text/plain": [
       "<Figure size 648x288 with 4 Axes>"
      ]
     },
     "metadata": {
      "needs_background": "light"
     },
     "output_type": "display_data"
    }
   ],
   "source": [
    "fig, ((ax1, ax2), (ax3, ax4)) = plt.subplots(ncols=2, nrows=2)\n",
    "fig.set_size_inches(9, 4)\n",
    "\n",
    "X1 = x1\n",
    "Y1 = b0_1 + b1_1 * X1\n",
    "\n",
    "X2 = x2\n",
    "Y2 = b0_2 + b1_2 * X2\n",
    "\n",
    "X3 = x3\n",
    "Y3 = b0_3 + b1_3 * X3\n",
    "\n",
    "X4 = x4\n",
    "Y4 = b0_4 + b1_4 * X4\n",
    "\n",
    "ax1.scatter(X1, Y1)\n",
    "ax1.plot(X1, Y1, color='red', alpha=0.5)\n",
    "\n",
    "ax2.scatter(X2, Y2)\n",
    "ax2.plot(X2, Y2, color='red', alpha=0.5)\n",
    "\n",
    "ax3.scatter(X3, Y3)\n",
    "ax3.plot(X3, Y3, color='red', alpha=0.5)\n",
    "\n",
    "ax4.scatter(X4, Y4)\n",
    "ax4.plot(X4, Y4, color='red', alpha=0.5)\n",
    "\n",
    "plt.show()"
   ]
  },
  {
   "cell_type": "code",
   "execution_count": null,
   "metadata": {},
   "outputs": [],
   "source": []
  },
  {
   "cell_type": "code",
   "execution_count": null,
   "metadata": {},
   "outputs": [],
   "source": []
  }
 ],
 "metadata": {
  "kernelspec": {
   "display_name": "Python 3",
   "language": "python",
   "name": "python3"
  },
  "language_info": {
   "codemirror_mode": {
    "name": "ipython",
    "version": 3
   },
   "file_extension": ".py",
   "mimetype": "text/x-python",
   "name": "python",
   "nbconvert_exporter": "python",
   "pygments_lexer": "ipython3",
   "version": "3.7.4"
  }
 },
 "nbformat": 4,
 "nbformat_minor": 2
}
